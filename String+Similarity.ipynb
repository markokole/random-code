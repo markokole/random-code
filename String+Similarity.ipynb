{
 "cells": [
  {
   "cell_type": "code",
   "execution_count": 45,
   "metadata": {},
   "outputs": [
    {
     "name": "stdout",
     "output_type": "stream",
     "text": [
      "wilhelmsen - wilhelmsen - 100.0\n",
      "wilhelmsen - Will De Loitte - 33.33\n",
      "wilhelmsen - Wilhelmsen - 90.0\n",
      "wilhelmsen - wilhelmsenhallen - 76.92\n",
      "wilhelmsen - deloitte - 33.33\n",
      "wilhelmsen - doolittle - 31.580000000000002\n",
      "wilhelmsen - abcd - 0.0\n",
      "Will De Loitte - wilhelmsen - 33.33\n",
      "Will De Loitte - Will De Loitte - 100.0\n",
      "Will De Loitte - Wilhelmsen - 41.67\n",
      "Will De Loitte - wilhelmsenhallen - 33.33\n",
      "Will De Loitte - deloitte - 54.55\n",
      "Will De Loitte - doolittle - 43.480000000000004\n",
      "Will De Loitte - abcd - 0.0\n",
      "Wilhelmsen - wilhelmsen - 90.0\n",
      "Wilhelmsen - Will De Loitte - 41.67\n",
      "Wilhelmsen - Wilhelmsen - 100.0\n",
      "Wilhelmsen - wilhelmsenhallen - 69.23\n",
      "Wilhelmsen - deloitte - 33.33\n",
      "Wilhelmsen - doolittle - 31.580000000000002\n",
      "Wilhelmsen - abcd - 0.0\n",
      "wilhelmsenhallen - wilhelmsen - 76.92\n",
      "wilhelmsenhallen - Will De Loitte - 26.669999999999998\n",
      "wilhelmsenhallen - Wilhelmsen - 69.23\n",
      "wilhelmsenhallen - wilhelmsenhallen - 100.0\n",
      "wilhelmsenhallen - deloitte - 25.0\n",
      "wilhelmsenhallen - doolittle - 24.0\n",
      "wilhelmsenhallen - abcd - 10.0\n",
      "deloitte - wilhelmsen - 33.33\n",
      "deloitte - Will De Loitte - 54.55\n",
      "deloitte - Wilhelmsen - 33.33\n",
      "deloitte - wilhelmsenhallen - 25.0\n",
      "deloitte - deloitte - 100.0\n",
      "deloitte - doolittle - 70.59\n",
      "deloitte - abcd - 16.669999999999998\n",
      "doolittle - wilhelmsen - 31.580000000000002\n",
      "doolittle - Will De Loitte - 43.480000000000004\n",
      "doolittle - Wilhelmsen - 31.580000000000002\n",
      "doolittle - wilhelmsenhallen - 24.0\n",
      "doolittle - deloitte - 70.59\n",
      "doolittle - doolittle - 100.0\n",
      "doolittle - abcd - 15.379999999999999\n",
      "abcd - wilhelmsen - 0.0\n",
      "abcd - Will De Loitte - 0.0\n",
      "abcd - Wilhelmsen - 0.0\n",
      "abcd - wilhelmsenhallen - 10.0\n",
      "abcd - deloitte - 16.669999999999998\n",
      "abcd - doolittle - 15.379999999999999\n",
      "abcd - abcd - 100.0\n"
     ]
    }
   ],
   "source": [
    "\"\"\"\n",
    "Check for similarities among words in an array and write the similarity ratio\n",
    "\"\"\"\n",
    "from __future__ import division\n",
    "from difflib import SequenceMatcher\n",
    "import numpy as np\n",
    "\n",
    "class similarity:\n",
    "    def __init__(self, array_of_words): #get an array of words\n",
    "        self.array_of_words = array_of_words        \n",
    "        self.calculate()    \n",
    "            \n",
    "    ##loop that runs through the word list and runs the word_ration\n",
    "    def calculate(self):\n",
    "        for w in self.array_of_words:\n",
    "            for r in self.words_ration(w).T:\n",
    "                print(r)\n",
    "        \n",
    "    ##take a word as a parameter and check for ration against every word in the list, including itself (return ration 100)\n",
    "    ##output is a numpy array in a form of word - compared_word - ratio\n",
    "    def words_ration(self, word):\n",
    "        array_r = []\n",
    "        for w in self.array_of_words:\n",
    "            r = SequenceMatcher(None, word,w).ratio()\n",
    "            array_r.append(word + \" - \" + w + \" - \" + str(round(r, 4)*100))\n",
    "        return np.array(array_r)\n",
    "        \n",
    "l = np.array(['wilhelmsen', 'Will De Loitte', 'Wilhelmsen', 'wilhelmsenhallen', 'deloitte', 'doolittle', 'abcd'])\n",
    "\n",
    "s = similarity(l)"
   ]
  }
 ],
 "metadata": {
  "kernelspec": {
   "display_name": "Python 3",
   "language": "python",
   "name": "python3"
  },
  "language_info": {
   "codemirror_mode": {
    "name": "ipython",
    "version": 3
   },
   "file_extension": ".py",
   "mimetype": "text/x-python",
   "name": "python",
   "nbconvert_exporter": "python",
   "pygments_lexer": "ipython3",
   "version": "3.4.3"
  }
 },
 "nbformat": 4,
 "nbformat_minor": 2
}
